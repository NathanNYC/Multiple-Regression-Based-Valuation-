{
 "cells": [
  {
   "cell_type": "code",
   "execution_count": 4,
   "metadata": {},
   "outputs": [
    {
     "name": "stdout",
     "output_type": "stream",
     "text": [
      "     Growth  Multiple    Margin\n",
      "0  0.060021  2.647001  0.444928\n",
      "1  0.339001  5.664107  0.460445\n",
      "2  0.052296  2.724218  0.245183\n",
      "3  0.058869  2.262839  0.357670\n",
      "4  0.043001  9.247986  0.529047\n",
      "[[8.36800446]]\n"
     ]
    }
   ],
   "source": [
    "import matplotlib.pyplot as plt\n",
    "import numpy as np\n",
    "import pandas as pd \n",
    "import sklearn.linear_model \n",
    "\n",
    "data=pd.read_csv('C:/Users/nsw26/Desktop/[    ].csv') \n",
    "\n",
    "#x = np.array([1,2,3,4,5,6,7,8,9,10]).reshape(-1,1)\n",
    "#y = np.array([2,4,6,8,10,12,14,16,18,20]).reshape(-1,1)\n",
    "\n",
    "\n",
    "\n",
    "pd.to_numeric(data['Growth'])\n",
    "pd.to_numeric(data['Multiple'])\n",
    "\n",
    "x=data[['Growth','Margin']]\n",
    "#x = np.array([x]).reshape(-1,1)\n",
    "y=data['Multiple']\n",
    "y = np.array([y]).reshape(-1,1)\n",
    "\n",
    "print(data)\n",
    "\n",
    "#select model \n",
    "model = sklearn.linear_model.LinearRegression()\n",
    "\n",
    "#train\n",
    "model.fit(x,y)\n",
    "\n",
    "#predict \n",
    "X_new = [[0.27,0.6]]\n",
    "print(model.predict(X_new))"
   ]
  }
 ],
 "metadata": {
  "kernelspec": {
   "display_name": "Python 3",
   "language": "python",
   "name": "python3"
  },
  "language_info": {
   "codemirror_mode": {
    "name": "ipython",
    "version": 3
   },
   "file_extension": ".py",
   "mimetype": "text/x-python",
   "name": "python",
   "nbconvert_exporter": "python",
   "pygments_lexer": "ipython3",
   "version": "3.7.0"
  }
 },
 "nbformat": 4,
 "nbformat_minor": 2
}
